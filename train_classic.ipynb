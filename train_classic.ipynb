{
 "cells": [
  {
   "cell_type": "code",
   "execution_count": 7,
   "metadata": {},
   "outputs": [],
   "source": [
    "from lazypredict.Supervised import LazyClassifier\n",
    "from lazypredict.Supervised import LazyRegressor\n",
    "import utils\n",
    "\n",
    "from sklearn.naive_bayes import GaussianNB\n",
    "from sklearn.ensemble import RandomForestClassifier, RandomForestRegressor\n",
    "from sklearn.svm import SVC, SVR\n",
    "from sklearn.neighbors import NearestCentroid, KNeighborsRegressor\n",
    "from sklearn.linear_model import LogisticRegression, LinearRegression\n",
    "from sklearn.tree import DecisionTreeClassifier, DecisionTreeRegressor\n",
    "\n",
    "import joblib\n",
    "\n",
    "import os"
   ]
  },
  {
   "cell_type": "code",
   "execution_count": 8,
   "metadata": {},
   "outputs": [],
   "source": [
    "def train_models(X_train, X_val, y_train, y_val, models, is_dataset_classification):\n",
    "    if len(models) == 0:\n",
    "        return []\n",
    "    \n",
    "    if is_dataset_classification:\n",
    "        lazy_ = LazyClassifier(\n",
    "            verbose=0,\n",
    "            ignore_warnings=True,\n",
    "            custom_metric=None,\n",
    "            classifiers=models  \n",
    "        )\n",
    "    else:\n",
    "        lazy_ = LazyRegressor(\n",
    "            verbose=0,\n",
    "            ignore_warnings=False,\n",
    "            custom_metric=None,\n",
    "            regressors=models\n",
    "        )\n",
    "    scores, predictions = lazy_.fit(X_train, X_val, y_train, y_val)\n",
    "    model_dictionary = lazy_.provide_models(X_train, X_val, y_train, y_val)\n",
    "    return model_dictionary"
   ]
  },
  {
   "cell_type": "code",
   "execution_count": 9,
   "metadata": {},
   "outputs": [],
   "source": [
    "CLASSIFIERS = [\n",
    "    GaussianNB,\n",
    "    RandomForestClassifier,\n",
    "    SVC,\n",
    "    NearestCentroid,\n",
    "    LogisticRegression,\n",
    "    DecisionTreeClassifier,\n",
    "]\n",
    "\n",
    "REGRESSORS = [\n",
    "    RandomForestRegressor,\n",
    "    SVR,\n",
    "    KNeighborsRegressor,\n",
    "    LinearRegression,\n",
    "    DecisionTreeRegressor\n",
    "]"
   ]
  },
  {
   "cell_type": "code",
   "execution_count": 10,
   "metadata": {},
   "outputs": [],
   "source": [
    "FILE_EXTENSION = \".joblib\""
   ]
  },
  {
   "cell_type": "code",
   "execution_count": 11,
   "metadata": {},
   "outputs": [],
   "source": [
    "def train(dataset_name):\n",
    "    results_path = utils.get_classicdescriptors_path(dataset_name)\n",
    "\n",
    "    # Select the models to train\n",
    "    models_to_train = [\n",
    "        # All the ones in the list\n",
    "        c for c in (CLASSIFIERS if utils.is_dataset_classification(dataset_name) else REGRESSORS) \\\n",
    "        # Except the ones already trained\n",
    "            if c.__name__+FILE_EXTENSION not in os.listdir(results_path)\n",
    "    ]\n",
    "\n",
    "    if models_to_train:\n",
    "        X,y = utils.get_X_y(dataset_name)\n",
    "        indices_train,indices_val = utils.get_indices_train_eval(dataset_name)\n",
    "        X_train, X_val = X[indices_train], X[indices_val]\n",
    "        y_train, y_val = y[indices_train], y[indices_val]\n",
    "        del X\n",
    "        del y\n",
    "        del indices_train\n",
    "        del indices_val\n",
    "\n",
    "        models = train_models(\n",
    "            X_train,\n",
    "            X_val,\n",
    "            y_train,\n",
    "            y_val,\n",
    "            models_to_train,\n",
    "            utils.is_dataset_classification(dataset_name)\n",
    "        )\n",
    "\n",
    "        for model_name,model in models.items():\n",
    "            # Create the path for the model\n",
    "            model_path = os.path.join(results_path, model_name + FILE_EXTENSION)\n",
    "            # Save it with joblib\n",
    "            joblib.dump(model, model_path)"
   ]
  },
  {
   "cell_type": "code",
   "execution_count": 12,
   "metadata": {},
   "outputs": [],
   "source": [
    "train(utils.HELOC_NAME)"
   ]
  }
 ],
 "metadata": {
  "kernelspec": {
   "display_name": "Python 3",
   "language": "python",
   "name": "python3"
  },
  "language_info": {
   "codemirror_mode": {
    "name": "ipython",
    "version": 3
   },
   "file_extension": ".py",
   "mimetype": "text/x-python",
   "name": "python",
   "nbconvert_exporter": "python",
   "pygments_lexer": "ipython3",
   "version": "3.9.13"
  }
 },
 "nbformat": 4,
 "nbformat_minor": 2
}

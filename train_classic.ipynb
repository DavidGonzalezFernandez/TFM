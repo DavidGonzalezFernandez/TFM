{
 "cells": [
  {
   "cell_type": "code",
   "execution_count": 1,
   "metadata": {},
   "outputs": [],
   "source": [
    "from lazypredict.Supervised import LazyClassifier\n",
    "from lazypredict.Supervised import LazyRegressor\n",
    "import utils\n",
    "\n",
    "from sklearn.naive_bayes import GaussianNB\n",
    "from sklearn.ensemble import RandomForestClassifier, RandomForestRegressor\n",
    "from sklearn.svm import SVC, SVR\n",
    "from sklearn.neighbors import NearestCentroid, KNeighborsRegressor\n",
    "from sklearn.linear_model import LogisticRegression, LinearRegression\n",
    "from sklearn.tree import DecisionTreeClassifier, DecisionTreeRegressor\n",
    "\n",
    "import joblib\n",
    "\n",
    "import os\n",
    "\n",
    "from utils import ALL_DATASETS"
   ]
  },
  {
   "cell_type": "code",
   "execution_count": 2,
   "metadata": {},
   "outputs": [],
   "source": [
    "def train_models(X_train, X_val, y_train, y_val, models, is_dataset_classification):\n",
    "    if len(models) == 0:\n",
    "        return []\n",
    "    \n",
    "    if is_dataset_classification:\n",
    "        lazy_ = LazyClassifier(\n",
    "            verbose=0,\n",
    "            ignore_warnings=True,\n",
    "            custom_metric=None,\n",
    "            classifiers=models  \n",
    "        )\n",
    "    else:\n",
    "        lazy_ = LazyRegressor(\n",
    "            verbose=0,\n",
    "            ignore_warnings=False,\n",
    "            custom_metric=None,\n",
    "            regressors=models\n",
    "        )\n",
    "    scores, predictions = lazy_.fit(X_train, X_val, y_train, y_val)\n",
    "    print(scores)\n",
    "    model_dictionary = lazy_.provide_models(X_train, X_val, y_train, y_val)\n",
    "    return model_dictionary"
   ]
  },
  {
   "cell_type": "code",
   "execution_count": 3,
   "metadata": {},
   "outputs": [],
   "source": [
    "CLASSIFIERS = [\n",
    "    GaussianNB,\n",
    "    RandomForestClassifier,\n",
    "    SVC,\n",
    "    NearestCentroid,\n",
    "    LogisticRegression,\n",
    "    DecisionTreeClassifier,\n",
    "]\n",
    "\n",
    "REGRESSORS = [\n",
    "    RandomForestRegressor,\n",
    "    SVR,\n",
    "    KNeighborsRegressor,\n",
    "    LinearRegression,\n",
    "    DecisionTreeRegressor\n",
    "]"
   ]
  },
  {
   "cell_type": "code",
   "execution_count": 4,
   "metadata": {},
   "outputs": [],
   "source": [
    "FILE_EXTENSION = \".joblib\""
   ]
  },
  {
   "cell_type": "code",
   "execution_count": 5,
   "metadata": {},
   "outputs": [
    {
     "name": "stdout",
     "output_type": "stream",
     "text": [
      "HELOC\n"
     ]
    },
    {
     "name": "stderr",
     "output_type": "stream",
     "text": [
      "100%|██████████| 6/6 [00:04<00:00,  1.28it/s]\n"
     ]
    },
    {
     "name": "stdout",
     "output_type": "stream",
     "text": [
      "                        Accuracy  Balanced Accuracy  ROC AUC  F1 Score  \\\n",
      "Model                                                                    \n",
      "SVC                         0.75               0.75     0.75      0.75   \n",
      "RandomForestClassifier      0.75               0.75     0.75      0.75   \n",
      "NearestCentroid             0.74               0.74     0.74      0.74   \n",
      "LogisticRegression          0.73               0.73     0.73      0.73   \n",
      "GaussianNB                  0.71               0.72     0.72      0.71   \n",
      "DecisionTreeClassifier      0.63               0.63     0.63      0.63   \n",
      "\n",
      "                        Time Taken  \n",
      "Model                               \n",
      "SVC                           2.63  \n",
      "RandomForestClassifier        1.60  \n",
      "NearestCentroid               0.23  \n",
      "LogisticRegression            0.07  \n",
      "GaussianNB                    0.02  \n",
      "DecisionTreeClassifier        0.12  \n",
      "##################################################\n",
      "California_Housing\n"
     ]
    },
    {
     "name": "stderr",
     "output_type": "stream",
     "text": [
      "100%|██████████| 5/5 [00:30<00:00,  6.10s/it]\n"
     ]
    },
    {
     "name": "stdout",
     "output_type": "stream",
     "text": [
      "                       Adjusted R-Squared  R-Squared  RMSE  Time Taken\n",
      "Model                                                                 \n",
      "RandomForestRegressor                0.82       0.82  0.49       17.13\n",
      "SVR                                  0.75       0.75  0.57       12.88\n",
      "KNeighborsRegressor                  0.68       0.68  0.65        0.18\n",
      "DecisionTreeRegressor                0.63       0.64  0.69        0.26\n",
      "LinearRegression                     0.62       0.62  0.71        0.02\n",
      "##################################################\n",
      "Dengue_Chikungunya\n"
     ]
    },
    {
     "name": "stderr",
     "output_type": "stream",
     "text": [
      "100%|██████████| 6/6 [00:05<00:00,  1.12it/s]\n"
     ]
    },
    {
     "name": "stdout",
     "output_type": "stream",
     "text": [
      "                        Accuracy  Balanced Accuracy  ROC AUC  F1 Score  \\\n",
      "Model                                                                    \n",
      "SVC                         0.79               0.79     0.79      0.79   \n",
      "LogisticRegression          0.78               0.78     0.78      0.78   \n",
      "RandomForestClassifier      0.76               0.76     0.76      0.76   \n",
      "NearestCentroid             0.74               0.74     0.74      0.74   \n",
      "GaussianNB                  0.73               0.73     0.73      0.73   \n",
      "DecisionTreeClassifier      0.67               0.67     0.67      0.67   \n",
      "\n",
      "                        Time Taken  \n",
      "Model                               \n",
      "SVC                           4.16  \n",
      "LogisticRegression            0.03  \n",
      "RandomForestClassifier        1.05  \n",
      "NearestCentroid               0.03  \n",
      "GaussianNB                    0.03  \n",
      "DecisionTreeClassifier        0.05  \n",
      "##################################################\n",
      "Covertype\n"
     ]
    },
    {
     "name": "stderr",
     "output_type": "stream",
     "text": [
      "100%|██████████| 6/6 [2:49:03<00:00, 1690.66s/it]  \n"
     ]
    },
    {
     "name": "stdout",
     "output_type": "stream",
     "text": [
      "                        Accuracy  Balanced Accuracy ROC AUC  F1 Score  \\\n",
      "Model                                                                   \n",
      "RandomForestClassifier      0.95               0.91    None      0.95   \n",
      "DecisionTreeClassifier      0.94               0.90    None      0.94   \n",
      "SVC                         0.79               0.60    None      0.79   \n",
      "NearestCentroid             0.55               0.59    None      0.58   \n",
      "LogisticRegression          0.72               0.50    None      0.71   \n",
      "GaussianNB                  0.09               0.45    None      0.05   \n",
      "\n",
      "                        Time Taken  \n",
      "Model                               \n",
      "RandomForestClassifier      185.40  \n",
      "DecisionTreeClassifier        7.47  \n",
      "SVC                        9927.87  \n",
      "NearestCentroid               1.76  \n",
      "LogisticRegression           19.31  \n",
      "GaussianNB                    2.13  \n",
      "##################################################\n"
     ]
    }
   ],
   "source": [
    "for dataset_name in ALL_DATASETS:\n",
    "    print(dataset_name)\n",
    "    \n",
    "    results_path = utils.get_classicdescriptors_path(dataset_name)\n",
    "\n",
    "    # Select the models to train\n",
    "    models_to_train = [\n",
    "        # All the ones in the list\n",
    "        c for c in (CLASSIFIERS if utils.is_dataset_classification(dataset_name) else REGRESSORS) \\\n",
    "        # Except the ones already trained\n",
    "            if c.__name__+FILE_EXTENSION not in os.listdir(results_path)\n",
    "    ]\n",
    "\n",
    "    if models_to_train:\n",
    "        X,y = utils.get_X_y(dataset_name)\n",
    "        indices_train,indices_val = utils.get_indices_train_eval(dataset_name)\n",
    "        X_train, X_val = X[indices_train], X[indices_val]\n",
    "        y_train, y_val = y[indices_train], y[indices_val]\n",
    "        del X\n",
    "        del y\n",
    "        del indices_train\n",
    "        del indices_val\n",
    "\n",
    "        models = train_models(\n",
    "            X_train,\n",
    "            X_val,\n",
    "            y_train,\n",
    "            y_val,\n",
    "            models_to_train,\n",
    "            utils.is_dataset_classification(dataset_name)\n",
    "        )\n",
    "\n",
    "        for model_name,model in models.items():\n",
    "            # Create the path for the model\n",
    "            assert os.path.exists(results_path)\n",
    "            model_path = os.path.join(results_path, model_name + FILE_EXTENSION)\n",
    "            assert not os.path.exists(model_path)\n",
    "\n",
    "            # Save it with joblib\n",
    "            joblib.dump(model, model_path)\n",
    "    \n",
    "    print(\"#\"*50)"
   ]
  }
 ],
 "metadata": {
  "kernelspec": {
   "display_name": "Python 3",
   "language": "python",
   "name": "python3"
  },
  "language_info": {
   "codemirror_mode": {
    "name": "ipython",
    "version": 3
   },
   "file_extension": ".py",
   "mimetype": "text/x-python",
   "name": "python",
   "nbconvert_exporter": "python",
   "pygments_lexer": "ipython3",
   "version": "3.9.13"
  }
 },
 "nbformat": 4,
 "nbformat_minor": 2
}

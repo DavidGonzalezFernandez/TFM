{
 "cells": [
  {
   "cell_type": "code",
   "execution_count": 1,
   "metadata": {},
   "outputs": [],
   "source": [
    "from lazypredict.Supervised import LazyClassifier\n",
    "from lazypredict.Supervised import LazyRegressor\n",
    "import utils\n",
    "\n",
    "from sklearn.naive_bayes import GaussianNB\n",
    "from sklearn.ensemble import RandomForestClassifier, RandomForestRegressor\n",
    "from sklearn.svm import SVC, SVR\n",
    "from sklearn.neighbors import NearestCentroid, KNeighborsRegressor\n",
    "from sklearn.linear_model import LogisticRegression, LinearRegression\n",
    "from sklearn.tree import DecisionTreeClassifier, DecisionTreeRegressor\n",
    "\n",
    "import joblib\n",
    "\n",
    "import os\n",
    "\n",
    "from utils import ALL_DATASETS"
   ]
  },
  {
   "cell_type": "code",
   "execution_count": 2,
   "metadata": {},
   "outputs": [],
   "source": [
    "def train_models(X_train, X_val, y_train, y_val, models, is_dataset_classification):\n",
    "    if len(models) == 0:\n",
    "        return []\n",
    "    \n",
    "    if is_dataset_classification:\n",
    "        lazy_ = LazyClassifier(\n",
    "            verbose=0,\n",
    "            ignore_warnings=True,\n",
    "            custom_metric=None,\n",
    "            classifiers=models  \n",
    "        )\n",
    "    else:\n",
    "        lazy_ = LazyRegressor(\n",
    "            verbose=0,\n",
    "            ignore_warnings=False,\n",
    "            custom_metric=None,\n",
    "            regressors=models\n",
    "        )\n",
    "    scores, predictions = lazy_.fit(X_train, X_val, y_train, y_val)\n",
    "    print(scores)\n",
    "    model_dictionary = lazy_.provide_models(X_train, X_val, y_train, y_val)\n",
    "    return model_dictionary"
   ]
  },
  {
   "cell_type": "code",
   "execution_count": 3,
   "metadata": {},
   "outputs": [],
   "source": [
    "CLASSIFIERS = [\n",
    "    GaussianNB,\n",
    "    RandomForestClassifier,\n",
    "    SVC,\n",
    "    NearestCentroid,\n",
    "    LogisticRegression,\n",
    "    DecisionTreeClassifier,\n",
    "]\n",
    "\n",
    "REGRESSORS = [\n",
    "    RandomForestRegressor,\n",
    "    SVR,\n",
    "    KNeighborsRegressor,\n",
    "    LinearRegression,\n",
    "    DecisionTreeRegressor\n",
    "]"
   ]
  },
  {
   "cell_type": "code",
   "execution_count": 4,
   "metadata": {},
   "outputs": [],
   "source": [
    "FILE_EXTENSION = \".joblib\""
   ]
  },
  {
   "cell_type": "code",
   "execution_count": 5,
   "metadata": {},
   "outputs": [
    {
     "name": "stdout",
     "output_type": "stream",
     "text": [
      "HELOC\n"
     ]
    },
    {
     "name": "stderr",
     "output_type": "stream",
     "text": [
      "100%|██████████| 6/6 [00:01<00:00,  4.26it/s]\n"
     ]
    },
    {
     "name": "stdout",
     "output_type": "stream",
     "text": [
      "                        Accuracy  Balanced Accuracy  ROC AUC  F1 Score  \\\n",
      "Model                                                                    \n",
      "SVC                         0.74               0.74     0.74      0.74   \n",
      "LogisticRegression          0.74               0.73     0.73      0.74   \n",
      "NearestCentroid             0.73               0.73     0.73      0.73   \n",
      "RandomForestClassifier      0.73               0.72     0.72      0.73   \n",
      "GaussianNB                  0.71               0.72     0.72      0.71   \n",
      "DecisionTreeClassifier      0.63               0.63     0.63      0.63   \n",
      "\n",
      "                        Time Taken  \n",
      "Model                               \n",
      "SVC                           0.47  \n",
      "LogisticRegression            0.03  \n",
      "NearestCentroid               0.22  \n",
      "RandomForestClassifier        0.63  \n",
      "GaussianNB                    0.01  \n",
      "DecisionTreeClassifier        0.05  \n",
      "##################################################\n",
      "California_Housing\n"
     ]
    },
    {
     "name": "stderr",
     "output_type": "stream",
     "text": [
      "100%|██████████| 5/5 [00:09<00:00,  1.90s/it]\n"
     ]
    },
    {
     "name": "stdout",
     "output_type": "stream",
     "text": [
      "                       Adjusted R-Squared  R-Squared  RMSE  Time Taken\n",
      "Model                                                                 \n",
      "RandomForestRegressor                0.86       0.86  0.44        7.13\n",
      "SVR                                  0.77       0.77  0.56        2.21\n",
      "KNeighborsRegressor                  0.73       0.73  0.60        0.06\n",
      "DecisionTreeRegressor                0.72       0.72  0.62        0.08\n",
      "LinearRegression                     0.61       0.62  0.73        0.01\n",
      "##################################################\n",
      "Dengue_Chikungunya\n"
     ]
    },
    {
     "name": "stderr",
     "output_type": "stream",
     "text": [
      "100%|██████████| 6/6 [00:00<00:00, 19.91it/s]\n"
     ]
    },
    {
     "name": "stdout",
     "output_type": "stream",
     "text": [
      "                        Accuracy  Balanced Accuracy ROC AUC  F1 Score  \\\n",
      "Model                                                                   \n",
      "RandomForestClassifier      1.00               1.00    None      1.00   \n",
      "SVC                         1.00               1.00    None      1.00   \n",
      "LogisticRegression          1.00               1.00    None      1.00   \n",
      "DecisionTreeClassifier      1.00               1.00    None      1.00   \n",
      "NearestCentroid             0.99               0.99    None      0.99   \n",
      "GaussianNB                  0.85               0.85    None      0.92   \n",
      "\n",
      "                        Time Taken  \n",
      "Model                               \n",
      "RandomForestClassifier        0.15  \n",
      "SVC                           0.01  \n",
      "LogisticRegression            0.02  \n",
      "DecisionTreeClassifier        0.01  \n",
      "NearestCentroid               0.09  \n",
      "GaussianNB                    0.02  \n",
      "##################################################\n",
      "Covertype\n"
     ]
    },
    {
     "name": "stderr",
     "output_type": "stream",
     "text": [
      "100%|██████████| 6/6 [1:06:19<00:00, 663.22s/it]   \n"
     ]
    },
    {
     "name": "stdout",
     "output_type": "stream",
     "text": [
      "                        Accuracy  Balanced Accuracy ROC AUC  F1 Score  \\\n",
      "Model                                                                   \n",
      "RandomForestClassifier      0.95               0.90    None      0.95   \n",
      "DecisionTreeClassifier      0.94               0.89    None      0.94   \n",
      "SVC                         0.80               0.61    None      0.79   \n",
      "NearestCentroid             0.55               0.60    None      0.58   \n",
      "LogisticRegression          0.76               0.53    None      0.74   \n",
      "GaussianNB                  0.10               0.45    None      0.08   \n",
      "\n",
      "                        Time Taken  \n",
      "Model                               \n",
      "RandomForestClassifier       43.99  \n",
      "DecisionTreeClassifier        4.50  \n",
      "SVC                        3920.91  \n",
      "NearestCentroid               0.62  \n",
      "LogisticRegression            8.63  \n",
      "GaussianNB                    0.67  \n",
      "##################################################\n"
     ]
    }
   ],
   "source": [
    "for dataset_name in ALL_DATASETS:\n",
    "    print(dataset_name)\n",
    "    \n",
    "    results_path = utils.get_classicdescriptors_split1_path(dataset_name)\n",
    "\n",
    "    # Select the models to train\n",
    "    models_to_train = [\n",
    "        # All the ones in the list\n",
    "        c for c in (CLASSIFIERS if utils.is_dataset_classification(dataset_name) else REGRESSORS) \\\n",
    "        # Except the ones already trained\n",
    "            if c.__name__+FILE_EXTENSION not in os.listdir(results_path)\n",
    "    ]\n",
    "\n",
    "    if models_to_train:\n",
    "        X,y = utils.get_X_y(dataset_name)\n",
    "        i_train1,i_val1,i_train2,i_val2 = utils.get_indices_train1_eval1_train2_eval2(dataset_name)\n",
    "        X_train, X_val = X[i_train1], X[i_val1]\n",
    "        y_train, y_val = y[i_train1], y[i_val1]\n",
    "        del X\n",
    "        del y\n",
    "        del i_train1\n",
    "        del i_val1\n",
    "        del i_train2\n",
    "        del i_val2\n",
    "\n",
    "        models = train_models(\n",
    "            X_train,\n",
    "            X_val,\n",
    "            y_train,\n",
    "            y_val,\n",
    "            models_to_train,\n",
    "            utils.is_dataset_classification(dataset_name)\n",
    "        )\n",
    "\n",
    "        for model_name,model in models.items():\n",
    "            # Create the path for the model\n",
    "            assert os.path.exists(results_path)\n",
    "            model_path = os.path.join(results_path, model_name + FILE_EXTENSION)\n",
    "            assert not os.path.exists(model_path)\n",
    "\n",
    "            # Save it with joblib\n",
    "            joblib.dump(model, model_path)\n",
    "    \n",
    "    print(\"#\"*50)"
   ]
  }
 ],
 "metadata": {
  "kernelspec": {
   "display_name": "Python 3",
   "language": "python",
   "name": "python3"
  },
  "language_info": {
   "codemirror_mode": {
    "name": "ipython",
    "version": 3
   },
   "file_extension": ".py",
   "mimetype": "text/x-python",
   "name": "python",
   "nbconvert_exporter": "python",
   "pygments_lexer": "ipython3",
   "version": "3.9.13"
  }
 },
 "nbformat": 4,
 "nbformat_minor": 2
}

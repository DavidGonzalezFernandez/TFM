{
 "cells": [
  {
   "cell_type": "markdown",
   "metadata": {},
   "source": [
    "# Try to load the datasets\n",
    "Get some metrics about the dataset"
   ]
  },
  {
   "cell_type": "code",
   "execution_count": 1,
   "metadata": {},
   "outputs": [],
   "source": [
    "from utils import get_X_y\n",
    "import numpy as np\n",
    "import pandas as pd\n",
    "pd.set_option('future.no_silent_downcasting', True)"
   ]
  },
  {
   "cell_type": "code",
   "execution_count": 2,
   "metadata": {},
   "outputs": [],
   "source": [
    "def print_dataset_metrics(X, y):\n",
    "    n_elems = X.shape[0]\n",
    "    print(\"Número de columnas:\", X.shape[1])\n",
    "    print(\"Número de elementos:\", n_elems)\n",
    "\n",
    "    print(\"Número de clases distintas:\", len(set(y)))\n",
    "\n",
    "    if len(set(y)) < 10:\n",
    "        print(\"Clases:\", set(y))\n",
    "        balance_of_classes = {\n",
    "            c:np.count_nonzero(y == c) / n_elems\n",
    "            for c in set(y)\n",
    "        }\n",
    "        print(\"Porcentaje de muestras por clase:\", balance_of_classes)"
   ]
  },
  {
   "cell_type": "markdown",
   "metadata": {},
   "source": [
    "## HELOC dataset\n",
    "Tipo: Clasificación binaria"
   ]
  },
  {
   "cell_type": "code",
   "execution_count": 3,
   "metadata": {},
   "outputs": [
    {
     "name": "stdout",
     "output_type": "stream",
     "text": [
      "Número de columnas: 23\n",
      "Número de elementos: 10459\n",
      "Número de clases distintas: 2\n",
      "Clases: {0, 1}\n",
      "Porcentaje de muestras por clase: {0: 0.4780571756382063, 1: 0.5219428243617936}\n"
     ]
    }
   ],
   "source": [
    "X,y = get_X_y(\"HELOC\")\n",
    "print_dataset_metrics(X, y)"
   ]
  },
  {
   "cell_type": "markdown",
   "metadata": {},
   "source": [
    "## ADULT_INCOME dataset\n",
    "Tipo: clasificación binaria"
   ]
  },
  {
   "cell_type": "code",
   "execution_count": 4,
   "metadata": {},
   "outputs": [
    {
     "name": "stdout",
     "output_type": "stream",
     "text": [
      "Número de columnas: 14\n",
      "Número de elementos: 32561\n",
      "Número de clases distintas: 2\n",
      "Clases: {0, 1}\n",
      "Porcentaje de muestras por clase: {0: 0.2408095574460244, 1: 0.7591904425539756}\n"
     ]
    }
   ],
   "source": [
    "X,y = get_X_y(\"AdultIncome\")\n",
    "print_dataset_metrics(X, y)"
   ]
  },
  {
   "cell_type": "markdown",
   "metadata": {},
   "source": [
    "## HIGGS dataset\n",
    "Tipo: clasificación binaria"
   ]
  },
  {
   "cell_type": "code",
   "execution_count": 5,
   "metadata": {},
   "outputs": [
    {
     "name": "stdout",
     "output_type": "stream",
     "text": [
      "Número de columnas: 28\n",
      "Número de elementos: 11000000\n",
      "Número de clases distintas: 2\n",
      "Clases: {0.0, 1.0}\n",
      "Porcentaje de muestras por clase: {0.0: 0.4700797272727273, 1.0: 0.5299202727272727}\n"
     ]
    }
   ],
   "source": [
    "X,y  = get_X_y(\"HIGGS\")\n",
    "print_dataset_metrics(X, y)"
   ]
  },
  {
   "cell_type": "markdown",
   "metadata": {},
   "source": [
    "## COVERTYPE dataset\n",
    "Tipo: clasificación multiclase"
   ]
  },
  {
   "cell_type": "code",
   "execution_count": 6,
   "metadata": {},
   "outputs": [
    {
     "name": "stdout",
     "output_type": "stream",
     "text": [
      "Número de columnas: 54\n",
      "Número de elementos: 581012\n",
      "Número de clases distintas: 7\n",
      "Clases: {1, 2, 3, 4, 5, 6, 7}\n",
      "Porcentaje de muestras por clase: {1: 0.36460520608868663, 2: 0.48759922342395684, 3: 0.06153745533655071, 4: 0.004727957426008413, 5: 0.016338733107061472, 6: 0.02989094889606411, 7: 0.03530047572167184}\n"
     ]
    }
   ],
   "source": [
    "X,y = get_X_y(\"Covertype\")\n",
    "print_dataset_metrics(X, y)"
   ]
  },
  {
   "cell_type": "markdown",
   "metadata": {},
   "source": [
    "## CALIFORNIA_HOUSING dataset\n",
    "Tipo: regresión"
   ]
  },
  {
   "cell_type": "code",
   "execution_count": 7,
   "metadata": {},
   "outputs": [
    {
     "name": "stdout",
     "output_type": "stream",
     "text": [
      "Número de columnas: 8\n",
      "Número de elementos: 20640\n",
      "Número de clases distintas: 3842\n"
     ]
    }
   ],
   "source": [
    "X,y = get_X_y(\"CaliforniaHousing\")\n",
    "print_dataset_metrics(X, y)"
   ]
  },
  {
   "cell_type": "markdown",
   "metadata": {},
   "source": [
    "## ARBOVIRUSES dataset"
   ]
  },
  {
   "cell_type": "code",
   "execution_count": 8,
   "metadata": {},
   "outputs": [
    {
     "name": "stdout",
     "output_type": "stream",
     "text": [
      "Número de columnas: 26\n",
      "Número de elementos: 17172\n",
      "Número de clases distintas: 3\n",
      "Clases: {0, 1, 2}\n",
      "Porcentaje de muestras por clase: {0: 0.3333333333333333, 1: 0.3333333333333333, 2: 0.3333333333333333}\n"
     ]
    }
   ],
   "source": [
    "X,y = get_X_y(\"Arboviruses\")\n",
    "print_dataset_metrics(X, y)"
   ]
  }
 ],
 "metadata": {
  "kernelspec": {
   "display_name": "Python 3",
   "language": "python",
   "name": "python3"
  },
  "language_info": {
   "codemirror_mode": {
    "name": "ipython",
    "version": 3
   },
   "file_extension": ".py",
   "mimetype": "text/x-python",
   "name": "python",
   "nbconvert_exporter": "python",
   "pygments_lexer": "ipython3",
   "version": "3.9.13"
  }
 },
 "nbformat": 4,
 "nbformat_minor": 2
}

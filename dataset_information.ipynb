{
 "cells": [
  {
   "cell_type": "markdown",
   "metadata": {},
   "source": [
    "# Try to load the datasets\n",
    "Get some metrics about the dataset"
   ]
  },
  {
   "cell_type": "code",
   "execution_count": 7,
   "metadata": {},
   "outputs": [],
   "source": [
    "import utils\n",
    "import numpy as np"
   ]
  },
  {
   "cell_type": "code",
   "execution_count": 8,
   "metadata": {},
   "outputs": [],
   "source": [
    "def print_dataset_metrics(X, y):\n",
    "    n_elems = X.shape[0]\n",
    "    print(\"Número de variables características:\", X.shape[1])\n",
    "\n",
    "    print(\"Número de elementos:\", n_elems)\n",
    "\n",
    "    print(\"Número de clases distintas:\", len(set(y)))\n",
    "\n",
    "    if len(set(y)) < 10:\n",
    "        print(\"Clases:\", set(y))\n",
    "        balance_of_classes = {\n",
    "            c:np.count_nonzero(y == c) / n_elems\n",
    "            for c in set(y)\n",
    "        }\n",
    "        print(\"Porcentaje de muestras por clase:\", balance_of_classes)"
   ]
  },
  {
   "cell_type": "markdown",
   "metadata": {},
   "source": [
    "## HELOC dataset\n",
    "Tipo: Clasificación binaria"
   ]
  },
  {
   "cell_type": "code",
   "execution_count": 9,
   "metadata": {},
   "outputs": [
    {
     "name": "stdout",
     "output_type": "stream",
     "text": [
      "Número de variables características: 23\n",
      "Número de elementos: 9871\n",
      "Número de clases distintas: 2\n",
      "Clases: {0, 1}\n",
      "Porcentaje de muestras por clase: {0: 0.4796879748758991, 1: 0.5203120251241009}\n"
     ]
    }
   ],
   "source": [
    "X,y = utils.get_X_y(utils.HELOC_NAME)\n",
    "print_dataset_metrics(X, y)"
   ]
  }
 ],
 "metadata": {
  "kernelspec": {
   "display_name": "Python 3",
   "language": "python",
   "name": "python3"
  },
  "language_info": {
   "codemirror_mode": {
    "name": "ipython",
    "version": 3
   },
   "file_extension": ".py",
   "mimetype": "text/x-python",
   "name": "python",
   "nbconvert_exporter": "python",
   "pygments_lexer": "ipython3",
   "version": "3.9.13"
  }
 },
 "nbformat": 4,
 "nbformat_minor": 2
}

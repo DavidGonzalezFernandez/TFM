{
 "cells": [
  {
   "cell_type": "markdown",
   "metadata": {},
   "source": [
    "# Try to load the datasets\n",
    "Get some metrics about the dataset"
   ]
  },
  {
   "cell_type": "code",
   "execution_count": 1,
   "metadata": {},
   "outputs": [],
   "source": [
    "from utils import get_X_y, ALL_DATASETS\n",
    "import numpy as np"
   ]
  },
  {
   "cell_type": "code",
   "execution_count": 2,
   "metadata": {},
   "outputs": [],
   "source": [
    "def print_dataset_metrics(X, y):\n",
    "    n_elems = X.shape[0]\n",
    "    print(\"Número de columnas:\", X.shape[1])\n",
    "    print(\"Número de elementos:\", n_elems)\n",
    "\n",
    "    print(\"Número de clases distintas:\", len(set(y)))\n",
    "\n",
    "    if len(set(y)) < 10:\n",
    "        print(\"Clases:\", set(y))\n",
    "        balance_of_classes = {\n",
    "            c:np.count_nonzero(y == c) / n_elems\n",
    "            for c in set(y)\n",
    "        }\n",
    "        print(\"Porcentaje de muestras por clase:\", balance_of_classes)"
   ]
  },
  {
   "cell_type": "markdown",
   "metadata": {},
   "source": [
    "## HELOC dataset\n",
    "Tipo: Clasificación binaria"
   ]
  },
  {
   "cell_type": "code",
   "execution_count": 3,
   "metadata": {},
   "outputs": [
    {
     "name": "stdout",
     "output_type": "stream",
     "text": [
      "####################################################################################################\n",
      "HELOC\n",
      "Número de columnas: 23\n",
      "Número de elementos: 9871\n",
      "Número de clases distintas: 2\n",
      "Clases: {0, 1}\n",
      "Porcentaje de muestras por clase: {0: 0.4796879748758991, 1: 0.5203120251241009}\n",
      "\n",
      "####################################################################################################\n",
      "California_Housing\n",
      "Número de columnas: 8\n",
      "Número de elementos: 20640\n",
      "Número de clases distintas: 3842\n",
      "\n",
      "####################################################################################################\n",
      "Dengue_Chikungunya\n",
      "Número de columnas: 26\n",
      "Número de elementos: 11448\n",
      "Número de clases distintas: 2\n",
      "Clases: {0, 1}\n",
      "Porcentaje de muestras por clase: {0: 0.5, 1: 0.5}\n",
      "\n",
      "####################################################################################################\n",
      "Covertype\n",
      "Número de columnas: 54\n",
      "Número de elementos: 581012\n",
      "Número de clases distintas: 7\n",
      "Clases: {0, 1, 2, 3, 4, 5, 6}\n",
      "Porcentaje de muestras por clase: {0: 0.36460520608868663, 1: 0.48759922342395684, 2: 0.06153745533655071, 3: 0.004727957426008413, 4: 0.016338733107061472, 5: 0.02989094889606411, 6: 0.03530047572167184}\n",
      "\n"
     ]
    }
   ],
   "source": [
    "for dataset_name in ALL_DATASETS:\n",
    "    print(\"#\"*100)\n",
    "    print(dataset_name)\n",
    "    X,y = get_X_y(dataset_name)\n",
    "    print_dataset_metrics(X, y)\n",
    "    print()"
   ]
  }
 ],
 "metadata": {
  "kernelspec": {
   "display_name": "Python 3",
   "language": "python",
   "name": "python3"
  },
  "language_info": {
   "codemirror_mode": {
    "name": "ipython",
    "version": 3
   },
   "file_extension": ".py",
   "mimetype": "text/x-python",
   "name": "python",
   "nbconvert_exporter": "python",
   "pygments_lexer": "ipython3",
   "version": "3.9.13"
  }
 },
 "nbformat": 4,
 "nbformat_minor": 2
}
